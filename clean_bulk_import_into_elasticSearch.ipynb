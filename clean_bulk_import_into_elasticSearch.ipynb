{
 "metadata": {
  "name": "",
  "signature": "sha256:5736c2337273015910c54d00e6080092de44b49afeef16c99e2d6f22cacbff29"
 },
 "nbformat": 3,
 "nbformat_minor": 0,
 "worksheets": [
  {
   "cells": [
    {
     "cell_type": "heading",
     "level": 3,
     "metadata": {},
     "source": [
      "In This Notebook I Am Going To Bulk Import Titanic Data Set Into Elasticseach"
     ]
    },
    {
     "cell_type": "code",
     "collapsed": false,
     "input": [
      "import urllib2\n",
      "import csv\n",
      "from elasticsearch import Elasticsearch"
     ],
     "language": "python",
     "metadata": {},
     "outputs": [],
     "prompt_number": 11
    },
    {
     "cell_type": "code",
     "collapsed": false,
     "input": [
      "file_url   = \"http://apps.sloanahrens.com/qbox-blog-resources/kaggle-titanic-data/test.csv\"\n",
      "url_reader = urllib2.urlopen( file_url )\n",
      "csv_reader = csv.reader( url_reader )"
     ],
     "language": "python",
     "metadata": {},
     "outputs": [],
     "prompt_number": 12
    },
    {
     "cell_type": "code",
     "collapsed": false,
     "input": [
      "import urllib\n",
      "urllib.urlretrieve ( file_url, \"titanic_data.csv\");"
     ],
     "language": "python",
     "metadata": {},
     "outputs": [],
     "prompt_number": 13
    },
    {
     "cell_type": "code",
     "collapsed": false,
     "input": [
      "!head titanic_data.csv"
     ],
     "language": "python",
     "metadata": {},
     "outputs": [
      {
       "output_type": "stream",
       "stream": "stdout",
       "text": [
        "PassengerId,Pclass,Name,Sex,Age,SibSp,Parch,Ticket,Fare,Cabin,Embarked\r",
        "\r\n",
        "892,3,\"Kelly, Mr. James\",male,34.5,0,0,330911,7.8292,,Q\r",
        "\r\n",
        "893,3,\"Wilkes, Mrs. James (Ellen Needs)\",female,47,1,0,363272,7,,S\r",
        "\r\n",
        "894,2,\"Myles, Mr. Thomas Francis\",male,62,0,0,240276,9.6875,,Q\r",
        "\r\n",
        "895,3,\"Wirz, Mr. Albert\",male,27,0,0,315154,8.6625,,S\r",
        "\r\n",
        "896,3,\"Hirvonen, Mrs. Alexander (Helga E Lindqvist)\",female,22,1,1,3101298,12.2875,,S\r",
        "\r\n",
        "897,3,\"Svensson, Mr. Johan Cervin\",male,14,0,0,7538,9.225,,S\r",
        "\r\n",
        "898,3,\"Connolly, Miss. Kate\",female,30,0,0,330972,7.6292,,Q\r",
        "\r\n",
        "899,2,\"Caldwell, Mr. Albert Francis\",male,26,1,1,248738,29,,S\r",
        "\r\n",
        "900,3,\"Abrahim, Mrs. Joseph (Sophie Halaut Easu)\",female,18,0,0,2657,7.2292,,C\r",
        "\r\n"
       ]
      }
     ],
     "prompt_number": 14
    },
    {
     "cell_type": "code",
     "collapsed": false,
     "input": [
      "es = Elasticsearch()"
     ],
     "language": "python",
     "metadata": {},
     "outputs": [],
     "prompt_number": 15
    },
    {
     "cell_type": "heading",
     "level": 3,
     "metadata": {},
     "source": [
      "Make Sure Index Does Not Exist Then Create Titanic Index"
     ]
    },
    {
     "cell_type": "code",
     "collapsed": false,
     "input": [
      "index_name = \"titanic\"\n",
      "if es.indices.exists( index_name ):\n",
      "    print( \" Attempting to delete '%s'\" % index_name )\n",
      "    response_delete = es.indices.delete( index = index_name )"
     ],
     "language": "python",
     "metadata": {},
     "outputs": [
      {
       "output_type": "stream",
       "stream": "stdout",
       "text": [
        " Attempting to delete 'titanic'\n"
       ]
      }
     ],
     "prompt_number": 16
    },
    {
     "cell_type": "code",
     "collapsed": false,
     "input": [
      "create_body = {\n",
      "    \"settings\": {\n",
      "    \"number_of_shards\":   1,\n",
      "    \"number_of_replicas\": 0\n",
      "    }\n",
      "  }\n",
      "\n",
      "response_create = es.indices.create( index = index_name, body = create_body )"
     ],
     "language": "python",
     "metadata": {},
     "outputs": [],
     "prompt_number": 17
    },
    {
     "cell_type": "heading",
     "level": 3,
     "metadata": {},
     "source": [
      "Ok so we have a csv file and we have to load this into elasticsearch. Now, elasticsearch stores its documents as json objects. So we have to clean it so we can bulk load it into es."
     ]
    },
    {
     "cell_type": "heading",
     "level": 3,
     "metadata": {},
     "source": [
      "    We have to:\n",
      "    1. make sure all columns are of the same type\n",
      "\n",
      "    2. make a dict mapping column header keys to each row values\n",
      "\n",
      "    3. create a meta data tag for each document specifically so map a primary key for each record to each document"
     ]
    },
    {
     "cell_type": "code",
     "collapsed": false,
     "input": [
      "datatypes_map = {\n",
      "  \"passengerid\" : int,\n",
      "  \"pclass\"      : int,\n",
      "  \"name\"        : str,\n",
      "  \"sex\"         : str,\n",
      "  \"age\"         : float,\n",
      "  \"sibsp\"       : int,\n",
      "  \"parch\"       : int,\n",
      "  \"ticket\"      : str,\n",
      "  \"fare\"        : float,\n",
      "  \"cabin\"       : str,\n",
      "  \"embarked\"    : str\n",
      "}\n",
      "# name of the type of document and make passenger id the primary key\n",
      "type_name  = \"passenger\"\n",
      "id_field   = \"passengerid\""
     ],
     "language": "python",
     "metadata": {},
     "outputs": [],
     "prompt_number": 18
    },
    {
     "cell_type": "heading",
     "level": 3,
     "metadata": {},
     "source": [
      "Read in header and make all lower case"
     ]
    },
    {
     "cell_type": "code",
     "collapsed": false,
     "input": [
      "bulk_data = []\n",
      "first_row  = csv_reader.next()\n",
      "csv_header = [ cell.lower() for cell in first_row ]\n",
      "print( \" Parsed first line as column headers: '%s'\" % csv_header )"
     ],
     "language": "python",
     "metadata": {},
     "outputs": [
      {
       "output_type": "stream",
       "stream": "stdout",
       "text": [
        " Parsed first line as column headers: '['passengerid', 'pclass', 'name', 'sex', 'age', 'sibsp', 'parch', 'ticket', 'fare', 'cabin', 'embarked']'\n"
       ]
      }
     ],
     "prompt_number": 19
    },
    {
     "cell_type": "code",
     "collapsed": false,
     "input": [
      "#Create a dict to map header keys to values for each row\n",
      "for row in csv_reader:\n",
      "    data_record = {}\n",
      "    \n",
      "    #For each cell in the row\n",
      "    for i in range( len(row) ):\n",
      "      #skips empty values as seen with the head command\n",
      "      if row[i] == \"\":\n",
      "        continue\n",
      "\n",
      "      #save each column name and corresponding key value into temporary variables\n",
      "      cell_column_name = csv_header[ i ]\n",
      "      cell_data_value  = row[ i ]\n",
      "        \n",
      "      #this maps column name to its corresponding type\n",
      "      datatype         = datatypes_map[ cell_column_name ]\n",
      "      \n",
      "      #this creates the key/value dict and casts the data type to right type for each column\n",
      "      data_record[ cell_column_name ] = datatype( cell_data_value )\n",
      "\n",
      "      #create the meta data for each document including the primary key id_field which is passenger id\n",
      "      meta_data = {\n",
      "      \"index\": {\n",
      "        \"_index\": index_name,\n",
      "        \"_type\":  type_name,\n",
      "        \"_id\":    data_record[ id_field ]\n",
      "        }\n",
      "      }\n",
      "      \n",
      "      #append the documents into the dict\n",
      "      bulk_data.append( meta_data )\n",
      "      bulk_data.append( data_record )\n"
     ],
     "language": "python",
     "metadata": {},
     "outputs": [],
     "prompt_number": 20
    },
    {
     "cell_type": "heading",
     "level": 3,
     "metadata": {},
     "source": [
      "Ok now the data is \"very nicee\" "
     ]
    },
    {
     "cell_type": "code",
     "collapsed": false,
     "input": [
      "print bulk_data[0:2]"
     ],
     "language": "python",
     "metadata": {},
     "outputs": [
      {
       "output_type": "stream",
       "stream": "stdout",
       "text": [
        "[{'index': {'_type': 'passenger', '_id': 892, '_index': 'titanic'}}, {'fare': 7.8292, 'name': 'Kelly, Mr. James', 'embarked': 'Q', 'age': 34.5, 'parch': 0, 'pclass': 3, 'sex': 'male', 'sibsp': 0, 'passengerid': 892, 'ticket': '330911'}]\n"
       ]
      }
     ],
     "prompt_number": 21
    },
    {
     "cell_type": "code",
     "collapsed": false,
     "input": [
      "response = es.bulk( index = index_name, body = bulk_data, refresh = True )"
     ],
     "language": "python",
     "metadata": {},
     "outputs": [],
     "prompt_number": 22
    },
    {
     "cell_type": "code",
     "collapsed": false,
     "input": [
      "es.search( index = index_name, size  = 2,\n",
      "           body  = {\n",
      "                    \"query\": {\n",
      "                    \"match\": { \"sex\" : \"male\" }\n",
      "                          }\n",
      "                        }\n",
      "                     )"
     ],
     "language": "python",
     "metadata": {},
     "outputs": [
      {
       "metadata": {},
       "output_type": "pyout",
       "prompt_number": 23,
       "text": [
        "{u'_shards': {u'failed': 0, u'successful': 1, u'total': 1},\n",
        " u'hits': {u'hits': [{u'_id': u'892',\n",
        "    u'_index': u'titanic',\n",
        "    u'_score': 1.4582187,\n",
        "    u'_source': {u'age': 34.5,\n",
        "     u'embarked': u'Q',\n",
        "     u'fare': 7.8292,\n",
        "     u'name': u'Kelly, Mr. James',\n",
        "     u'parch': 0,\n",
        "     u'passengerid': 892,\n",
        "     u'pclass': 3,\n",
        "     u'sex': u'male',\n",
        "     u'sibsp': 0,\n",
        "     u'ticket': u'330911'},\n",
        "    u'_type': u'passenger'},\n",
        "   {u'_id': u'894',\n",
        "    u'_index': u'titanic',\n",
        "    u'_score': 1.4582187,\n",
        "    u'_source': {u'age': 62.0,\n",
        "     u'embarked': u'Q',\n",
        "     u'fare': 9.6875,\n",
        "     u'name': u'Myles, Mr. Thomas Francis',\n",
        "     u'parch': 0,\n",
        "     u'passengerid': 894,\n",
        "     u'pclass': 2,\n",
        "     u'sex': u'male',\n",
        "     u'sibsp': 0,\n",
        "     u'ticket': u'240276'},\n",
        "    u'_type': u'passenger'}],\n",
        "  u'max_score': 1.4582187,\n",
        "  u'total': 266},\n",
        " u'timed_out': False,\n",
        " u'took': 77}"
       ]
      }
     ],
     "prompt_number": 23
    },
    {
     "cell_type": "heading",
     "level": 3,
     "metadata": {},
     "source": [
      "And Now You Can Open Up Kibana And Perform \"Google-like\" Searches On This Data Set While Visualizing the Data"
     ]
    }
   ],
   "metadata": {}
  }
 ]
}